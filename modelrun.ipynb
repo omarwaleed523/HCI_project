{
 "cells": [
  {
   "cell_type": "code",
   "execution_count": 12,
   "metadata": {},
   "outputs": [],
   "source": [
    "import mediapipe as mp\n",
    "import cv2\n",
    "from dollarpy import Recognizer, Template, Point\n",
    "import time\n",
    "import pickle\n",
    "import socket\n",
    "import threading\n",
    "\n",
    "mp_drawing = mp.solutions.drawing_utils\n",
    "mp_holistic = mp.solutions.holistic\n"
   ]
  },
  {
   "cell_type": "code",
   "execution_count": 13,
   "metadata": {},
   "outputs": [
    {
     "name": "stdout",
     "output_type": "stream",
     "text": [
      "Model loaded successfully.\n"
     ]
    }
   ],
   "source": [
    "# Load the model\n",
    "model_filename = 'thumbsup.pkl'\n",
    "with open(model_filename, 'rb') as model_file:\n",
    "    templates = pickle.load(model_file)\n",
    "\n",
    "# Initialize recognizer with loaded templates\n",
    "recognizer = Recognizer(templates)\n",
    "print(\"Model loaded successfully.\")"
   ]
  },
  {
   "cell_type": "code",
   "execution_count": 32,
   "metadata": {},
   "outputs": [
    {
     "name": "stdout",
     "output_type": "stream",
     "text": [
      "Connected to the server.\n",
      "Thumbs up detected, attempting to send signal\n",
      "Thumbs-up signal sent successfully\n",
      "Thumbs up detected, attempting to send signal\n",
      "Thumbs-up signal sent successfully\n",
      "Thumbs up detected, attempting to send signal\n",
      "Error sending thumbs-up signal: [WinError 10053] An established connection was aborted by the software in your host machine\n",
      "Thumbs up detected, attempting to send signal\n",
      "Error sending thumbs-up signal: [WinError 10053] An established connection was aborted by the software in your host machine\n"
     ]
    }
   ],
   "source": [
    "import socket\n",
    "import cv2\n",
    "import mediapipe as mp\n",
    "import time\n",
    "\n",
    "# Set up MediaPipe components for gesture detection\n",
    "mp_holistic = mp.solutions.holistic\n",
    "mp_drawing = mp.solutions.drawing_utils\n",
    "thumbs_up_socket = socket.socket(socket.AF_INET, socket.SOCK_STREAM)\n",
    "thumbs_up_socket.connect(('DESKTOP-8161GCK', 8001))  # Connect to the main script\n",
    "print(\"Connected to the server.\")\n",
    "def thumbs_up_status_callback(thumbs_up_detected):\n",
    "\n",
    "    if thumbs_up_detected:\n",
    "        print(\"Thumbs up detected, attempting to send signal\")\n",
    "        try:\n",
    "            # Initialize client socket for thumbs-up detection\n",
    "            thumbs_up_socket.sendall(b'thumbs_up')  # Send thumbs-up signal\n",
    "            print(\"Thumbs-up signal sent successfully\")\n",
    "        except Exception as e:\n",
    "            print(\"Error sending thumbs-up signal:\", e)\n",
    "\n",
    "def getPointsRealTime(thumbs_up_detected_callback):\n",
    "    cap = cv2.VideoCapture(0)  # Use camera\n",
    "    with mp_holistic.Holistic(min_detection_confidence=0.5, min_tracking_confidence=0.5) as holistic:\n",
    "        while cap.isOpened():\n",
    "            ret, frame = cap.read()\n",
    "            if not ret:\n",
    "                break\n",
    "\n",
    "            # Flip the frame horizontally to mirror the camera feed\n",
    "            frame = cv2.flip(frame, 1)\n",
    "\n",
    "            image = cv2.cvtColor(frame, cv2.COLOR_BGR2RGB)\n",
    "            image.flags.writeable = False\n",
    "\n",
    "            results = holistic.process(image)\n",
    "            image.flags.writeable = True\n",
    "            image = cv2.cvtColor(image, cv2.COLOR_RGB2BGR)\n",
    "\n",
    "            # Draw hand landmarks\n",
    "            mp_drawing.draw_landmarks(image, results.right_hand_landmarks, mp_holistic.HAND_CONNECTIONS)\n",
    "            mp_drawing.draw_landmarks(image, results.left_hand_landmarks, mp_holistic.HAND_CONNECTIONS)\n",
    "\n",
    "            # Check for thumbs-up gesture\n",
    "            thumbs_up_detected = False\n",
    "            if results.right_hand_landmarks or results.left_hand_landmarks:\n",
    "                try:\n",
    "                    hand_landmarks = results.right_hand_landmarks or results.left_hand_landmarks\n",
    "\n",
    "                    # Get the coordinates for landmarks needed for thumbs-up detection\n",
    "                    thumb_tip = hand_landmarks.landmark[mp.solutions.hands.HandLandmark.THUMB_TIP]\n",
    "                    thumb_ip = hand_landmarks.landmark[mp.solutions.hands.HandLandmark.THUMB_IP]\n",
    "                    index_mcp = hand_landmarks.landmark[mp.solutions.hands.HandLandmark.INDEX_FINGER_MCP]\n",
    "                    middle_mcp = hand_landmarks.landmark[mp.solutions.hands.HandLandmark.MIDDLE_FINGER_MCP]\n",
    "\n",
    "                    # Condition to check if thumb is up and other fingers are folded\n",
    "                    if (thumb_tip.y < index_mcp.y and thumb_tip.y < middle_mcp.y) and \\\n",
    "                       (thumb_tip.x > thumb_ip.x):  # Thumb pointing upwards condition\n",
    "\n",
    "                        thumbs_up_detected = True\n",
    "                        thumb_x = int(thumb_tip.x * image.shape[1])\n",
    "                        thumb_y = int(thumb_tip.y * image.shape[0])\n",
    "                        cv2.circle(image, (thumb_x, thumb_y), 10, (0, 255, 0), -1)  # Draw green dot\n",
    "\n",
    "                except Exception as e:\n",
    "                    print(f\"Error processing hand landmarks: {e}\")\n",
    "\n",
    "            # Call the callback with the current thumbs-up status\n",
    "            thumbs_up_detected_callback(thumbs_up_detected)\n",
    "\n",
    "            # Display the frame\n",
    "            cv2.imshow(\"Gesture Detection\", image)\n",
    "\n",
    "            if cv2.waitKey(10) & 0xFF == ord('q'):\n",
    "                break\n",
    "                thumbs_up_socket.close()  # Close the connection after sending\n",
    "\n",
    "\n",
    "        cap.release()\n",
    "        cv2.destroyAllWindows()\n",
    "\n",
    "# Start real-time gesture detection\n",
    "getPointsRealTime(thumbs_up_status_callback)\n"
   ]
  },
  {
   "cell_type": "code",
   "execution_count": null,
   "metadata": {},
   "outputs": [],
   "source": []
  },
  {
   "cell_type": "code",
   "execution_count": null,
   "metadata": {},
   "outputs": [],
   "source": []
  }
 ],
 "metadata": {
  "kernelspec": {
   "display_name": "base",
   "language": "python",
   "name": "python3"
  },
  "language_info": {
   "codemirror_mode": {
    "name": "ipython",
    "version": 3
   },
   "file_extension": ".py",
   "mimetype": "text/x-python",
   "name": "python",
   "nbconvert_exporter": "python",
   "pygments_lexer": "ipython3",
   "version": "3.12.7"
  }
 },
 "nbformat": 4,
 "nbformat_minor": 2
}
